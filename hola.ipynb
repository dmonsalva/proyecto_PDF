{
 "cells": [
  {
   "cell_type": "code",
   "execution_count": null,
   "id": "d731f997",
   "metadata": {},
   "outputs": [],
   "source": [
    "git add .github/workflows/sync.yml\n",
    "git commit -m \"Automatización: detección completa de cambios en la carpeta\"\n",
    "git push origin main"
   ]
  }
 ],
 "metadata": {
  "language_info": {
   "name": "python"
  }
 },
 "nbformat": 4,
 "nbformat_minor": 5
}
