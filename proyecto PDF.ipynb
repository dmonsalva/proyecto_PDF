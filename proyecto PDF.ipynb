{
 "cells": [
  {
   "cell_type": "markdown",
   "id": "1a5c6381",
   "metadata": {},
   "source": [
    "# PROYECTO PDF\n",
    "\n",
    "# MOSTRANDO INFORMACION AL USUARIO\n",
    "\n",
    "COMANDO PRINT()"
   ]
  },
  {
   "cell_type": "code",
   "execution_count": 2,
   "id": "1d67c4a1",
   "metadata": {},
   "outputs": [
    {
     "name": "stdout",
     "output_type": "stream",
     "text": [
      "Semana de Python en la practica\n",
      "David, el mejor programador de python\n"
     ]
    }
   ],
   "source": [
    "print(\"Semana de Python en la practica\")\n",
    "print(\"David, el mejor programador de python\")"
   ]
  },
  {
   "cell_type": "markdown",
   "id": "6b0ab8f4",
   "metadata": {},
   "source": [
    "# RECIBIR DATOS DEL USUARIO\n",
    "\n",
    "COMANDO input()"
   ]
  },
  {
   "cell_type": "code",
   "execution_count": 3,
   "id": "cedcaa06",
   "metadata": {},
   "outputs": [
    {
     "data": {
      "text/plain": [
       "'s'"
      ]
     },
     "execution_count": 3,
     "metadata": {},
     "output_type": "execute_result"
    }
   ],
   "source": [
    "input(\"Digita tu nombre\")\n",
    "input(\"Cual es el mejor mensaje de programacion del mundo?\")"
   ]
  },
  {
   "cell_type": "markdown",
   "id": "dd7cecf9",
   "metadata": {},
   "source": [
    "# ALMACENANDO DATOS EN VARIABLES"
   ]
  },
  {
   "cell_type": "code",
   "execution_count": 4,
   "id": "6e723155",
   "metadata": {},
   "outputs": [],
   "source": [
    "proyecto = \"Mi primer proyecto con python\"\n",
    "numero = 10"
   ]
  },
  {
   "cell_type": "code",
   "execution_count": 5,
   "id": "a394d9af",
   "metadata": {},
   "outputs": [
    {
     "name": "stdout",
     "output_type": "stream",
     "text": [
      "Mi primer proyecto con python\n"
     ]
    }
   ],
   "source": [
    "print(proyecto)"
   ]
  },
  {
   "cell_type": "markdown",
   "id": "9a0f1410",
   "metadata": {},
   "source": [
    "# MEZCLANDO TODOS LOS CONCEPTOS APRENDIDOS"
   ]
  },
  {
   "cell_type": "code",
   "execution_count": 7,
   "id": "bc37b0d2",
   "metadata": {},
   "outputs": [],
   "source": [
    "proyecto = input(\"DIGITA LA DESCRIPCION DEL PROYECTO: \")\n",
    "horas_estimadas = input(\"DIGITA LA CANTIDAD DE HORAS ESTIMADAS: \")\n",
    "valor_hora = input(\"DIGITA EL VALOR DE LA HORA TRABAJADA: \")\n",
    "tiempo_estimado = input(\"DIGITA EL PLAZO ESTIMADO: \")"
   ]
  },
  {
   "cell_type": "code",
   "execution_count": 8,
   "id": "89efd937",
   "metadata": {},
   "outputs": [
    {
     "name": "stdout",
     "output_type": "stream",
     "text": [
      "hola\n",
      "30\n",
      "100\n",
      "3 meses\n"
     ]
    }
   ],
   "source": [
    "print(proyecto)\n",
    "print(horas_estimadas)\n",
    "print(valor_hora)\n",
    "print(tiempo_estimado)"
   ]
  },
  {
   "cell_type": "markdown",
   "id": "d84519d9",
   "metadata": {},
   "source": [
    "# CALCULOS CON PYTHON"
   ]
  },
  {
   "cell_type": "code",
   "execution_count": 9,
   "id": "ab8bc8af",
   "metadata": {},
   "outputs": [
    {
     "name": "stdout",
     "output_type": "stream",
     "text": [
      "20\n",
      "10\n",
      "100\n",
      "10.0\n"
     ]
    }
   ],
   "source": [
    "print(10 + 10)\n",
    "print(20-10)\n",
    "print(10*10)\n",
    "print(100/10)"
   ]
  },
  {
   "cell_type": "markdown",
   "id": "025af96f",
   "metadata": {},
   "source": [
    "# CALCULANDO VALOR TOTAL DEL PROYECTO"
   ]
  },
  {
   "cell_type": "code",
   "execution_count": 15,
   "id": "92ac8276",
   "metadata": {},
   "outputs": [],
   "source": [
    "valor_total = int(horas_estimadas)*int(valor_hora)"
   ]
  },
  {
   "cell_type": "code",
   "execution_count": 16,
   "id": "ff817df7",
   "metadata": {},
   "outputs": [
    {
     "data": {
      "text/plain": [
       "3000"
      ]
     },
     "execution_count": 16,
     "metadata": {},
     "output_type": "execute_result"
    }
   ],
   "source": [
    "valor_total"
   ]
  },
  {
   "cell_type": "markdown",
   "id": "05f53a62",
   "metadata": {},
   "source": [
    "# GENERANDO ARCHIVO PDF DEL PRESUPUESTO\n",
    "INSTALAR BIBLIOTECA"
   ]
  },
  {
   "cell_type": "code",
   "execution_count": 11,
   "id": "702b175c",
   "metadata": {},
   "outputs": [
    {
     "name": "stdout",
     "output_type": "stream",
     "text": [
      "Collecting fpdf\n",
      "  Using cached fpdf-1.7.2.tar.gz (39 kB)\n",
      "  Installing build dependencies: started\n",
      "  Installing build dependencies: finished with status 'done'\n",
      "  Getting requirements to build wheel: started\n",
      "  Getting requirements to build wheel: finished with status 'done'\n",
      "  Preparing metadata (pyproject.toml): started\n",
      "  Preparing metadata (pyproject.toml): finished with status 'done'\n",
      "Building wheels for collected packages: fpdf\n",
      "  Building wheel for fpdf (pyproject.toml): started\n",
      "  Building wheel for fpdf (pyproject.toml): finished with status 'done'\n",
      "  Created wheel for fpdf: filename=fpdf-1.7.2-py2.py3-none-any.whl size=40769 sha256=6c98205ff67ea96b14a6932d0f7185141bf9aa2307a996a6ed74da20fea53bec\n",
      "  Stored in directory: c:\\users\\dmons\\appdata\\local\\pip\\cache\\wheels\\f9\\95\\ba\\f418094659025eb9611f17cbcaf2334236bf39a0c3453ea455\n",
      "Successfully built fpdf\n",
      "Installing collected packages: fpdf\n",
      "Successfully installed fpdf-1.7.2\n"
     ]
    }
   ],
   "source": [
    "! pip install fpdf"
   ]
  },
  {
   "cell_type": "markdown",
   "id": "dd5a6988",
   "metadata": {},
   "source": [
    "# ACTIVAR BIBLIOTECA"
   ]
  },
  {
   "cell_type": "code",
   "execution_count": 12,
   "id": "e838b9f6",
   "metadata": {},
   "outputs": [],
   "source": [
    "from fpdf import FPDF"
   ]
  },
  {
   "cell_type": "markdown",
   "id": "855a2a38",
   "metadata": {},
   "source": [
    "# CODIGO PYTHON GENERAR PDF"
   ]
  },
  {
   "cell_type": "code",
   "execution_count": 17,
   "id": "0b40ac8c",
   "metadata": {},
   "outputs": [
    {
     "name": "stdout",
     "output_type": "stream",
     "text": [
      "PRESUPUESTO EJECUTADO CON EXITO\n"
     ]
    }
   ],
   "source": [
    "pdf = FPDF()\n",
    "\n",
    "pdf.add_page()\n",
    "pdf.set_font(\"Arial\")\n",
    "\n",
    "pdf.image(\"Template.png\", 0 ,0)\n",
    "\n",
    "pdf.text(115, 145, proyecto)\n",
    "pdf.text(115, 160, horas_estimadas)\n",
    "pdf.text(115, 175, valor_hora)\n",
    "pdf.text(115, 190, tiempo_estimado)\n",
    "pdf.text(115, 205, str(valor_total))\n",
    "\n",
    "pdf.output(\"presupuesto.pdf\")\n",
    "print(\"PRESUPUESTO EJECUTADO CON EXITO\")"
   ]
  }
 ],
 "metadata": {
  "kernelspec": {
   "display_name": "Python 3",
   "language": "python",
   "name": "python3"
  },
  "language_info": {
   "codemirror_mode": {
    "name": "ipython",
    "version": 3
   },
   "file_extension": ".py",
   "mimetype": "text/x-python",
   "name": "python",
   "nbconvert_exporter": "python",
   "pygments_lexer": "ipython3",
   "version": "3.13.3"
  }
 },
 "nbformat": 4,
 "nbformat_minor": 5
}
